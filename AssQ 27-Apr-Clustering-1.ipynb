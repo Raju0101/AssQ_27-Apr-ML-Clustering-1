{
 "cells": [
  {
   "cell_type": "markdown",
   "id": "23ee26dc-ac6a-45f6-9c20-610c3dc8225d",
   "metadata": {},
   "source": [
    "# AssQ 27-Apr-ML-Clustering-1"
   ]
  },
  {
   "cell_type": "code",
   "execution_count": null,
   "id": "880a2168-952c-45ef-a6dd-9eaa2e41afb1",
   "metadata": {},
   "outputs": [],
   "source": [
    "Q1. What are the different types of clustering algorithms, and how do they differ in terms of their approach \n",
    "and underlying assumptions?"
   ]
  },
  {
   "cell_type": "code",
   "execution_count": null,
   "id": "c4d964ce-7421-4817-a65a-ecbb0257b031",
   "metadata": {},
   "outputs": [],
   "source": [
    "As an indispensable tool of data mining, clustering algorithms play an essential role in big data analysis. \n",
    "Clustering methods are mainly divided into density-based, \n",
    "partition-based, hierarchical, and model-based clustering.\n",
    "\n",
    "Types of Clustering\n",
    "Centroid-based Clustering.\n",
    "Density-based Clustering.\n",
    "Distribution-based Clustering.\n",
    "Hierarchical Clustering.\n",
    "\n",
    "Types of Cluster Analysis\n",
    "Centroid-based Clustering. In this type of clustering, clusters are represented by a central entity, \n",
    "which may or may not be a part of the given data set. ...\n",
    "Distribution-based Clustering. ...\n",
    "Density-based Clustering."
   ]
  },
  {
   "cell_type": "code",
   "execution_count": null,
   "id": "fce32bdf-a414-421a-98ff-319501133073",
   "metadata": {},
   "outputs": [],
   "source": []
  },
  {
   "cell_type": "code",
   "execution_count": null,
   "id": "be1e5348-a0df-4c5f-8672-2e139c356ce8",
   "metadata": {},
   "outputs": [],
   "source": [
    "Q2.What is K-means clustering, and how does it work?"
   ]
  },
  {
   "cell_type": "code",
   "execution_count": null,
   "id": "bdaba8fa-f100-4967-99e3-30ce1f3320d3",
   "metadata": {},
   "outputs": [],
   "source": [
    "K-Means clustering is an unsupervised learning algorithm. There is no labeled data for this clustering, \n",
    "unlike in supervised learning. K-Means performs the division of objects into clusters that share similarities and \n",
    "are dissimilar to the objects belonging to another cluster. The term 'K' is a number.\n",
    "\n",
    "K-means is a centroid-based clustering algorithm, where we calculate the distance between each data point \n",
    "and a centroid to assign it to a cluster. \n",
    "The goal is to identify the K number of groups in the dataset.\n",
    "\n",
    "K-means triggers its process with arbitrarily chosen data points as proposed centroids of the groups and\n",
    "iteratively recalculates new centroids in order to converge to a final clustering of the data points. Specifically,\n",
    "the process works as follows: The algorithm randomly chooses a centroid for each cluster.\n",
    "\n",
    "K-means is a data clustering approach for unsupervised machine learning that can separate unlabeled data into\n",
    "a predetermined number of disjoint groups of equal variance – clusters – based on their similarities.\n",
    "It's a popular algorithm thanks to its ease of use and speed on large datasets."
   ]
  },
  {
   "cell_type": "code",
   "execution_count": null,
   "id": "e2c2ca88-18c8-4e14-b320-0c8a68d963d9",
   "metadata": {},
   "outputs": [],
   "source": []
  },
  {
   "cell_type": "code",
   "execution_count": null,
   "id": "02ef1d85-9abd-4066-a65b-66cd8e148b89",
   "metadata": {},
   "outputs": [],
   "source": [
    "Q3. What are some advantages and limitations of K-means clustering compared to other clustering \n",
    "techniques?"
   ]
  },
  {
   "cell_type": "code",
   "execution_count": null,
   "id": "50831bd5-c7a0-4148-b541-bc443c37eec0",
   "metadata": {},
   "outputs": [],
   "source": [
    "It is very easy to understand and implement. If we have large number of variables then,\n",
    "K-means would be faster than Hierarchical clustering. On re-computation of centroids, an instance can change the cluster.\n",
    "Tighter clusters are formed with K-means as compared to Hierarchical clustering.\n",
    "\n",
    "Guarantees convergence. Can warm-start the positions of centroids. Easily adapts to new examples.\n",
    "Generalizes to clusters of different shapes and sizes, such as elliptical clusters.\n",
    "\n",
    "Disadvantages-\n",
    "It requires to specify the number of clusters (k) in advance.\n",
    "It can not handle noisy data and outliers.\n",
    "It is not suitable to identify clusters with non-convex shapes."
   ]
  },
  {
   "cell_type": "code",
   "execution_count": null,
   "id": "7b6624a9-39c6-4cf9-b7c7-0f479d928468",
   "metadata": {},
   "outputs": [],
   "source": []
  },
  {
   "cell_type": "code",
   "execution_count": null,
   "id": "51965abd-4e0a-439c-9376-fafa165660d6",
   "metadata": {},
   "outputs": [],
   "source": [
    "Q4. How do you determine the optimal number of clusters in K-means clustering, and what are some \n",
    "common methods for doing so?"
   ]
  },
  {
   "cell_type": "code",
   "execution_count": null,
   "id": "af8e800c-d2bb-49da-89c0-73cb3b718bf5",
   "metadata": {},
   "outputs": [],
   "source": [
    "Silhouette Method---\n",
    "The silhouette coefficient may provide a more objective means to determine the optimal number of clusters. \n",
    "This is done by simply calculating the silhouette coefficient over a range of k, and identifying the peak as the optimum K.\n",
    "\n",
    "Probably the most well known method, the elbow method, in which the sum of squares at each number of clusters is calculated and graphed, \n",
    "and the user looks for a change of slope from steep to shallow (an elbow) to determine the optimal number of clusters.\n",
    "\n",
    "The k-Means Elbow method is used to find the optimal value of the K in the K-Means algorithm."
   ]
  },
  {
   "cell_type": "code",
   "execution_count": null,
   "id": "8993f1d7-cd81-41f6-bca2-002a66b1ea51",
   "metadata": {},
   "outputs": [],
   "source": []
  },
  {
   "cell_type": "code",
   "execution_count": null,
   "id": "22a6196e-ad17-4533-85eb-d0808f6ec0d6",
   "metadata": {},
   "outputs": [],
   "source": [
    "Q5. What are some applications of K-means clustering in real-world scenarios, and how has it been used \n",
    "to solve specific problems?"
   ]
  },
  {
   "cell_type": "code",
   "execution_count": null,
   "id": "24b72174-e0f0-4f5f-970c-bd304a998b6f",
   "metadata": {},
   "outputs": [],
   "source": [
    "kmeans algorithm is very popular and used in a variety of applications such as market segmentation,\n",
    "document clustering, image segmentation and image compression, etc.\n",
    "The goal usually when we undergo a cluster analysis is either:\n",
    "Get a meaningful intuition of the structure of the data we're dealing with.\n",
    "\n",
    "Real-life examples include spam detection, sentiment analysis, scorecard prediction of exams, etc. \n",
    "2) Regression Models – Regression models are used for problems where the output variable\n",
    "is a real value such as a unique number, dollars, salary, weight or pressure, for example.\n",
    "\n",
    "Streaming services often use clustering analysis to identify viewers who have similar behavior. \n",
    "For example, a streaming service may collect the following data about individuals:\n",
    "Minutes watched per day. Total viewing sessions per week."
   ]
  },
  {
   "cell_type": "code",
   "execution_count": null,
   "id": "12038cd6-e143-4370-8d6b-fdbf2694ccfb",
   "metadata": {},
   "outputs": [],
   "source": []
  },
  {
   "cell_type": "code",
   "execution_count": null,
   "id": "50f919b3-80e0-4246-8b1f-c797ba2ee92a",
   "metadata": {},
   "outputs": [],
   "source": [
    "Q6. How do you interpret the output of a K-means clustering algorithm, and what insights can you derive \n",
    "from the resulting clusters?"
   ]
  },
  {
   "cell_type": "code",
   "execution_count": null,
   "id": "ee16a978-a6f8-464c-b913-cb2c6ef09b8c",
   "metadata": {},
   "outputs": [],
   "source": [
    "\n",
    "Interpreting the meaning of k-means clusters boils down to characterizing the clusters.\n",
    "A Parallel Coordinates Plot allows us to see how individual data points sit across all variables.\n",
    "By looking at how the values for each variable compare across clusters, \n",
    "we can get a sense of what each cluster represents.\n",
    "\n",
    "Interpret the key results for Cluster K-Means----\n",
    "Step 1: Examine the final groupings. Examine the final groupings to see whether the clusters in\n",
    "the final partition make intuitive sense, based on the initial partition you specified. ...\n",
    "Step 2: Assess the variability within each cluster.\n",
    "\n",
    "Here clusters are evaluated based on some similarity or dissimilarity measure such as the distance between cluster points.\n",
    "If the clustering algorithm separates dissimilar observations apart\n",
    "and similar observations together, then it has performed well.\n",
    "\n",
    "The output of kmeans is a list with several bits of information.\n",
    "The most important being: cluster : A vector of integers (from 1:k) indicating the cluster to which each point is allocated. \n",
    "centers : A matrix of cluster centers."
   ]
  },
  {
   "cell_type": "code",
   "execution_count": null,
   "id": "0f0d0b1d-7c84-4585-bd68-0208947154c8",
   "metadata": {},
   "outputs": [],
   "source": []
  },
  {
   "cell_type": "code",
   "execution_count": null,
   "id": "808c63a2-3fa8-42dc-bc79-479bd868165c",
   "metadata": {},
   "outputs": [],
   "source": [
    "Q7. What are some common challenges in implementing K-means clustering, and how can you address them?"
   ]
  },
  {
   "cell_type": "code",
   "execution_count": null,
   "id": "a2a962f6-bd6b-4805-8424-99f091097acb",
   "metadata": {},
   "outputs": [],
   "source": [
    "k-means has trouble clustering data where clusters are of varying sizes and density. \n",
    "To cluster such data, you need to generalize k-means as described in the Advantages section.\n",
    "Clustering outliers. Centroids can be dragged by outliers,\n",
    "or outliers might get their own cluster instead of being ignored.\n",
    "\n",
    "There are two challenges that need to handled wisely in order to get the most out of the k-means clustering algorithm:\n",
    "Defining the number of clusters. Determining the initial centroids.\n",
    "\n",
    "What are the major issues in clustering -------\n",
    "The cluster membership may change over time due to dynamic shifts in data.\n",
    "Handling outliers is difficult in cluster analysis.\n",
    "Clustering struggles with high-dimensional datasets.\n",
    "Multiple correct answers for the same problem.\n",
    "Evaluating a solution's correctness is problematic.\n",
    "\n",
    "\n",
    "What Are the Primary Challenges With Data Clustering?\n",
    "Volume. The amount of data stored on most networks is growing exponentially. ...\n",
    "Velocity. The speed at which data is generated is another clustering challenge data scientists face. ...\n",
    "Variety. ...\n",
    "K-Means Clustering. ...\n",
    "Unsupervised Classification Algorithms. ...\n",
    "COALA. ...\n",
    "Dimension Reduction."
   ]
  },
  {
   "cell_type": "code",
   "execution_count": null,
   "id": "ee24c1b0-08c1-4ad1-a8a0-27520325f9cd",
   "metadata": {},
   "outputs": [],
   "source": []
  }
 ],
 "metadata": {
  "kernelspec": {
   "display_name": "Python 3 (ipykernel)",
   "language": "python",
   "name": "python3"
  },
  "language_info": {
   "codemirror_mode": {
    "name": "ipython",
    "version": 3
   },
   "file_extension": ".py",
   "mimetype": "text/x-python",
   "name": "python",
   "nbconvert_exporter": "python",
   "pygments_lexer": "ipython3",
   "version": "3.10.6"
  }
 },
 "nbformat": 4,
 "nbformat_minor": 5
}
